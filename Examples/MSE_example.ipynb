{
 "cells": [
  {
   "cell_type": "markdown",
   "source": [
    "# Import libs"
   ],
   "metadata": {}
  },
  {
   "cell_type": "code",
   "execution_count": 1,
   "source": [
    "from sklearn.metrics import mean_squared_error as mse\n",
    "from sklearn.datasets import make_regression\n",
    "import sklearn.datasets as dts\n",
    "from gbdtmo import GBDTMulti, load_lib, plotting\n",
    "from sklearn.model_selection import train_test_split\n",
    "\n",
    "\n",
    "X, y = make_regression(n_samples=10000, n_features=130,\n",
    "                       n_targets=2, random_state=1)\n",
    "x_train, x_valid, y_train, y_valid = train_test_split(\n",
    "    X, y, test_size=0.3, random_state=1)"
   ],
   "outputs": [],
   "metadata": {}
  },
  {
   "cell_type": "markdown",
   "source": [
    "# Train the model with test split in the set_data method\n",
    "### First out put RMSE"
   ],
   "metadata": {}
  },
  {
   "cell_type": "code",
   "execution_count": 2,
   "source": [
    "LIB = load_lib(\n",
    "    \"/home/oem/.local/lib/python3.8/site-packages/gbdtmo/build/gbdtmo.so\")\n",
    "inp_dim, out_dim = 10, 5\n",
    "params = {\"max_depth\": 5, \"lr\": 0.1, 'loss': b\"mse\"}\n",
    "booster = GBDTMulti(LIB, out_dim=out_dim, params=params)\n",
    "\n",
    "X, y = make_regression(n_samples=70000, n_features=120,\n",
    "                       n_targets=5, random_state=1)\n",
    "x_trin, x_valid, y_train, y_valid = train_test_split(\n",
    "    X, y, test_size=0.3, random_state=1)\n",
    "booster.set_data((x_train, y_train), (x_valid, y_valid))\n",
    "booster.train(10)\n",
    "err = booster.predict(x_valid)[:, 0]\n",
    "print('MSE:', mse(y_valid[:, 0], err, squared=False))"
   ],
   "outputs": [
    {
     "output_type": "stream",
     "name": "stdout",
     "text": [
      "[0] train->193.54802\teval->196.91351\n",
      "[1] train->193.17283\teval->196.97386\n",
      "[2] train->192.84982\teval->197.03743\n",
      "[3] train->192.45381\teval->197.10631\n",
      "[4] train->191.90494\teval->197.12702\n",
      "[5] train->191.24247\teval->197.15435\n",
      "[6] train->190.77545\teval->197.17776\n",
      "[7] train->190.14451\teval->197.23143\n",
      "[8] train->189.54331\teval->197.28283\n",
      "[9] train->189.11253\teval->197.31585\n",
      "Best score 196.91351 at round 0\n",
      "MSE: 193.733206703349\n"
     ]
    }
   ],
   "metadata": {}
  },
  {
   "cell_type": "markdown",
   "source": [
    "# Train the model without test split in the set_data method\n",
    "### First out put RMSE"
   ],
   "metadata": {}
  },
  {
   "cell_type": "code",
   "execution_count": 3,
   "source": [
    "LIB = load_lib(\n",
    "    \"/home/oem/.local/lib/python3.8/site-packages/gbdtmo/build/gbdtmo.so\")\n",
    "inp_dim, out_dim = 10, 5\n",
    "params = {\"max_depth\": 5, \"lr\": 0.1, 'loss': b\"mse\"}\n",
    "booster = GBDTMulti(LIB, out_dim=out_dim, params=params)\n",
    "\n",
    "X, y = make_regression(n_samples=70000, n_features=120,\n",
    "                       n_targets=5, random_state=1)\n",
    "x_trin, x_valid, y_train, y_valid = train_test_split(\n",
    "    X, y, test_size=0.3, random_state=1)\n",
    "booster.set_data((x_train, y_train))\n",
    "booster.train(10)\n",
    "err = booster.predict(x_valid)[:, 0]\n",
    "print('MSE:', mse(y_valid[:, 0], err, squared=False))"
   ],
   "outputs": [
    {
     "output_type": "stream",
     "name": "stdout",
     "text": [
      "[0] score->193.54802\n",
      "[1] score->193.17283\n",
      "[2] score->192.84982\n",
      "[3] score->192.45381\n",
      "[4] score->191.90494\n",
      "[5] score->191.24247\n",
      "[6] score->190.77545\n",
      "[7] score->190.14451\n"
     ]
    }
   ],
   "metadata": {}
  },
  {
   "cell_type": "code",
   "execution_count": null,
   "source": [
    "print('MSE:', mse(y_valid[:, 0], err, squared=False)"
   ],
   "outputs": [
    {
     "output_type": "error",
     "ename": "Error",
     "evalue": "Session cannot generate requests",
     "traceback": [
      "Error: Session cannot generate requests",
      "at w.executeCodeCell (/home/oem/.vscode/extensions/ms-toolsai.jupyter-2021.8.2041215044/out/client/extension.js:52:301310)",
      "at w.execute (/home/oem/.vscode/extensions/ms-toolsai.jupyter-2021.8.2041215044/out/client/extension.js:52:300703)",
      "at w.start (/home/oem/.vscode/extensions/ms-toolsai.jupyter-2021.8.2041215044/out/client/extension.js:52:296367)",
      "at runMicrotasks (<anonymous>)",
      "at processTicksAndRejections (internal/process/task_queues.js:93:5)",
      "at async t.CellExecutionQueue.executeQueuedCells (/home/oem/.vscode/extensions/ms-toolsai.jupyter-2021.8.2041215044/out/client/extension.js:52:311160)",
      "at async t.CellExecutionQueue.start (/home/oem/.vscode/extensions/ms-toolsai.jupyter-2021.8.2041215044/out/client/extension.js:52:310700)"
     ]
    }
   ],
   "metadata": {}
  },
  {
   "cell_type": "markdown",
   "source": [
    "### Both MSE are equal, so we may ignore test split in the se_data"
   ],
   "metadata": {}
  },
  {
   "cell_type": "markdown",
   "source": [
    "# Train the model with test split in the set_data method\n",
    "### 2nd out put RMSE"
   ],
   "metadata": {}
  },
  {
   "cell_type": "code",
   "execution_count": 11,
   "source": [
    "LIB = load_lib(\n",
    "    \"/home/oem/.local/lib/python3.8/site-packages/gbdtmo/build/gbdtmo.so\")\n",
    "inp_dim, out_dim = 10, 5\n",
    "params = {\"max_depth\": 5, \"lr\": 0.1, 'loss': b\"mse\"}\n",
    "booster = GBDTMulti(LIB, out_dim=out_dim, params=params)\n",
    "\n",
    "X, y = make_regression(n_samples=70000, n_features=120,\n",
    "                       n_targets=5, random_state=1)\n",
    "x_trin, x_valid, y_train, y_valid = train_test_split(\n",
    "    X, y, test_size=0.3, random_state=1)\n",
    "booster.set_data((x_train, y_train), (x_valid, y_valid))\n",
    "booster.train(10)\n",
    "err = booster.predict(x_valid)[:, 1]\n",
    "print('MSE:', mse(y_valid[:, 1], err, squared=False))"
   ],
   "outputs": [
    {
     "output_type": "stream",
     "name": "stdout",
     "text": [
      "[0] train->194.79344\teval->196.89693\n",
      "[1] train->194.62583\teval->196.93415\n",
      "[2] train->194.50023\teval->196.94812\n",
      "[3] train->194.40126\teval->197.00849\n",
      "[4] train->194.19005\teval->197.06071\n",
      "[5] train->193.94295\teval->197.09481\n",
      "[6] train->193.76170\teval->197.12210\n",
      "[7] train->193.64588\teval->197.18430\n",
      "[8] train->193.47570\teval->197.26856\n",
      "[9] train->193.31609\teval->197.31598\n",
      "Best score 196.89693 at round 0\n",
      "MSE: 206.65121098216358\n"
     ]
    }
   ],
   "metadata": {}
  },
  {
   "cell_type": "markdown",
   "source": [
    "# Train the model without test split in the set_data method\n",
    "### 2nd out put RMSE"
   ],
   "metadata": {}
  },
  {
   "cell_type": "code",
   "execution_count": 12,
   "source": [
    "LIB = load_lib(\n",
    "    \"/home/oem/.local/lib/python3.8/site-packages/gbdtmo/build/gbdtmo.so\")\n",
    "inp_dim, out_dim = 10, 5\n",
    "params = {\"max_depth\": 5, \"lr\": 0.1, 'loss': b\"mse\"}\n",
    "booster = GBDTMulti(LIB, out_dim=out_dim, params=params)\n",
    "\n",
    "X, y = make_regression(n_samples=70000, n_features=120,\n",
    "                       n_targets=5, random_state=1)\n",
    "x_trin, x_valid, y_train, y_valid = train_test_split(\n",
    "    X, y, test_size=0.3, random_state=1)\n",
    "booster.set_data((x_train, y_train))\n",
    "booster.train(10)\n",
    "err = booster.predict(x_valid)[:, 1]\n",
    "print('MSE:', mse(y_valid[:, 1], err, squared=False))"
   ],
   "outputs": [
    {
     "output_type": "stream",
     "name": "stdout",
     "text": [
      "[0] score->194.79344\n",
      "[1] score->194.62583\n",
      "[2] score->194.50023\n",
      "[3] score->194.40126\n",
      "[4] score->194.19005\n",
      "[5] score->193.94295\n",
      "[6] score->193.76170\n",
      "[7] score->193.64588\n",
      "[8] score->193.47570\n",
      "[9] score->193.31609\n",
      "MSE: 206.65121098216358\n"
     ]
    }
   ],
   "metadata": {}
  }
 ],
 "metadata": {
  "kernelspec": {
   "name": "python3",
   "display_name": "Python 3.8.10 64-bit"
  },
  "language_info": {
   "codemirror_mode": {
    "name": "ipython",
    "version": 3
   },
   "file_extension": ".py",
   "mimetype": "text/x-python",
   "name": "python",
   "nbconvert_exporter": "python",
   "pygments_lexer": "ipython3",
   "version": "3.8.10"
  },
  "interpreter": {
   "hash": "916dbcbb3f70747c44a77c7bcd40155683ae19c65e1c03b4aa3499c5328201f1"
  }
 },
 "nbformat": 4,
 "nbformat_minor": 2
}