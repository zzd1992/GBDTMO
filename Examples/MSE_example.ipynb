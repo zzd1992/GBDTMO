{
 "cells": [
  {
   "cell_type": "markdown",
   "metadata": {},
   "source": [
    "# Import libs"
   ]
  },
  {
   "cell_type": "code",
   "execution_count": 1,
   "metadata": {},
   "outputs": [],
   "source": [
    "from sklearn.metrics import mean_squared_error as mse\n",
    "from sklearn.datasets import make_regression\n",
    "import sklearn.datasets as dts\n",
    "from gbdtmo import GBDTMulti, load_lib, plotting\n",
    "from sklearn.model_selection import train_test_split\n",
    "\n",
    "\n",
    "X, y = make_regression(n_samples=1000, n_features=50,\n",
    "                       n_targets=2, random_state=1)\n",
    "x_train, x_valid, y_train, y_valid = train_test_split(\n",
    "    X, y, test_size=0.3, random_state=1)"
   ]
  },
  {
   "cell_type": "markdown",
   "metadata": {},
   "source": [
    "# Train the model with test split in the set_data method\n",
    "### First out put RMSE"
   ]
  },
  {
   "cell_type": "code",
   "execution_count": 2,
   "metadata": {},
   "outputs": [
    {
     "name": "stdout",
     "output_type": "stream",
     "text": [
      "[0] train->190.29464\teval->196.91230\n",
      "[1] train->188.85163\teval->197.01361\n",
      "[2] train->188.30407\teval->197.09918\n",
      "[3] train->186.45628\teval->197.27496\n",
      "[4] train->185.85216\teval->197.37651\n",
      "[5] train->185.43044\teval->197.50267\n",
      "[6] train->185.28380\teval->197.52284\n",
      "[7] train->185.14766\teval->197.56240\n",
      "[8] train->185.02269\teval->197.60805\n",
      "[9] train->184.90296\teval->197.64146\n",
      "Best score 196.91230 at round 0\n",
      "MSE: 194.06721669906784\n"
     ]
    }
   ],
   "source": [
    "LIB = load_lib(\n",
    "    \"/home/oem/.local/lib/python3.8/site-packages/gbdtmo/build/gbdtmo.so\")\n",
    "inp_dim, out_dim = 10, 5\n",
    "params = {\"max_depth\": 5, \"lr\": 0.1, 'loss': b\"mse\"}\n",
    "booster = GBDTMulti(LIB, out_dim=out_dim, params=params)\n",
    "\n",
    "X, y = make_regression(n_samples=70000, n_features=120,\n",
    "                       n_targets=5, random_state=1)\n",
    "x_trin, x_valid, y_train, y_valid = train_test_split(\n",
    "    X, y, test_size=0.3, random_state=1)\n",
    "booster.set_data((x_train, y_train), (x_valid, y_valid))\n",
    "booster.train(10)\n",
    "err = booster.predict(x_valid)[:, 0]\n",
    "print('MSE:', mse(y_valid[:, 0], err, squared=False))"
   ]
  },
  {
   "cell_type": "markdown",
   "metadata": {},
   "source": [
    "# Train the model without test split in the set_data method\n",
    "### First out put RMSE"
   ]
  },
  {
   "cell_type": "code",
   "execution_count": 3,
   "metadata": {},
   "outputs": [
    {
     "name": "stdout",
     "output_type": "stream",
     "text": [
      "[0] score->190.29464\n",
      "[1] score->188.85163\n",
      "[2] score->188.30407\n",
      "[3] score->186.45628\n",
      "[4] score->185.85216\n",
      "[5] score->185.43044\n",
      "[6] score->185.28380\n",
      "[7] score->185.14766\n",
      "[8] score->185.02269\n",
      "[9] score->184.90296\n",
      "MSE: 194.06721669906784\n"
     ]
    }
   ],
   "source": [
    "LIB = load_lib(\n",
    "    \"/home/oem/.local/lib/python3.8/site-packages/gbdtmo/build/gbdtmo.so\")\n",
    "inp_dim, out_dim = 10, 5\n",
    "params = {\"max_depth\": 5, \"lr\": 0.1, 'loss': b\"mse\"}\n",
    "booster = GBDTMulti(LIB, out_dim=out_dim, params=params)\n",
    "\n",
    "X, y = make_regression(n_samples=70000, n_features=120,\n",
    "                       n_targets=5, random_state=1)\n",
    "x_trin, x_valid, y_train, y_valid = train_test_split(\n",
    "    X, y, test_size=0.3, random_state=1)\n",
    "booster.set_data((x_train, y_train))\n",
    "booster.train(10)\n",
    "err = booster.predict(x_valid)[:, 0]\n",
    "print('MSE:', mse(y_valid[:, 0], err, squared=False))"
   ]
  },
  {
   "cell_type": "markdown",
   "metadata": {},
   "source": [
    "### Both MSE are equal, so we may ignore test split in the se_data"
   ]
  },
  {
   "cell_type": "markdown",
   "metadata": {},
   "source": [
    "# Train the model with test split in the set_data method\n",
    "### 2nd out put RMSE"
   ]
  },
  {
   "cell_type": "code",
   "execution_count": 4,
   "metadata": {},
   "outputs": [
    {
     "name": "stdout",
     "output_type": "stream",
     "text": [
      "[0] train->190.29464\teval->196.91230\n",
      "[1] train->188.85163\teval->197.01361\n",
      "[2] train->188.30407\teval->197.09918\n",
      "[3] train->186.45628\teval->197.27496\n",
      "[4] train->185.85216\teval->197.37651\n",
      "[5] train->185.43044\teval->197.50267\n",
      "[6] train->185.28380\teval->197.52284\n",
      "[7] train->185.14766\teval->197.56240\n",
      "[8] train->185.02269\teval->197.60805\n",
      "[9] train->184.90296\teval->197.64146\n",
      "Best score 196.91230 at round 0\n",
      "MSE: 206.95342666524027\n"
     ]
    }
   ],
   "source": [
    "LIB = load_lib(\n",
    "    \"/home/oem/.local/lib/python3.8/site-packages/gbdtmo/build/gbdtmo.so\")\n",
    "inp_dim, out_dim = 10, 5\n",
    "params = {\"max_depth\": 5, \"lr\": 0.1, 'loss': b\"mse\"}\n",
    "booster = GBDTMulti(LIB, out_dim=out_dim, params=params)\n",
    "\n",
    "X, y = make_regression(n_samples=70000, n_features=120,\n",
    "                       n_targets=5, random_state=1)\n",
    "x_trin, x_valid, y_train, y_valid = train_test_split(\n",
    "    X, y, test_size=0.3, random_state=1)\n",
    "booster.set_data((x_train, y_train), (x_valid, y_valid))\n",
    "booster.train(10)\n",
    "err = booster.predict(x_valid)[:, 1]\n",
    "print('MSE:', mse(y_valid[:, 1], err, squared=False))"
   ]
  },
  {
   "cell_type": "markdown",
   "metadata": {},
   "source": [
    "# Train the model without test split in the set_data method\n",
    "### 2nd out put RMSE"
   ]
  },
  {
   "cell_type": "code",
   "execution_count": 5,
   "metadata": {},
   "outputs": [
    {
     "name": "stdout",
     "output_type": "stream",
     "text": [
      "[0] score->190.29464\n",
      "[1] score->188.85163\n",
      "[2] score->188.30407\n",
      "[3] score->186.45628\n",
      "[4] score->185.85216\n",
      "[5] score->185.43044\n",
      "[6] score->185.28380\n",
      "[7] score->185.14766\n",
      "[8] score->185.02269\n",
      "[9] score->184.90296\n",
      "MSE: 206.95342666524027\n"
     ]
    }
   ],
   "source": [
    "LIB = load_lib(\n",
    "    \"/home/oem/.local/lib/python3.8/site-packages/gbdtmo/build/gbdtmo.so\")\n",
    "inp_dim, out_dim = 10, 5\n",
    "params = {\"max_depth\": 5, \"lr\": 0.1, 'loss': b\"mse\"}\n",
    "booster = GBDTMulti(LIB, out_dim=out_dim, params=params)\n",
    "\n",
    "X, y = make_regression(n_samples=70000, n_features=120,\n",
    "                       n_targets=5, random_state=1)\n",
    "x_trin, x_valid, y_train, y_valid = train_test_split(\n",
    "    X, y, test_size=0.3, random_state=1)\n",
    "booster.set_data((x_train, y_train))\n",
    "booster.train(10)\n",
    "err = booster.predict(x_valid)[:, 1]\n",
    "print('MSE:', mse(y_valid[:, 1], err, squared=False))"
   ]
  }
 ],
 "metadata": {
  "interpreter": {
   "hash": "916dbcbb3f70747c44a77c7bcd40155683ae19c65e1c03b4aa3499c5328201f1"
  },
  "kernelspec": {
   "display_name": "Python 3 (ipykernel)",
   "language": "python",
   "name": "python3"
  },
  "language_info": {
   "codemirror_mode": {
    "name": "ipython",
    "version": 3
   },
   "file_extension": ".py",
   "mimetype": "text/x-python",
   "name": "python",
   "nbconvert_exporter": "python",
   "pygments_lexer": "ipython3",
   "version": "3.8.10"
  }
 },
 "nbformat": 4,
 "nbformat_minor": 2
}
